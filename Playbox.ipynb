{
 "cells": [
  {
   "cell_type": "markdown",
   "metadata": {},
   "source": [
    "### Note\n",
    "* Instructions have been included for each segment. You do not have to follow them exactly, but they are included to help you think through the steps."
   ]
  },
  {
   "cell_type": "code",
   "execution_count": 22,
   "metadata": {},
   "outputs": [
    {
     "data": {
      "text/plain": [
       "0     (19, 24]\n",
       "1    (39, 150]\n",
       "2     (19, 24]\n",
       "3     (19, 24]\n",
       "4     (19, 24]\n",
       "Name: Age, dtype: category\n",
       "Categories (7, interval[int64]): [(9, 13] < (13, 19] < (19, 24] < (24, 29] < (29, 34] < (34, 39] < (39, 150]]"
      ]
     },
     "execution_count": 22,
     "metadata": {},
     "output_type": "execute_result"
    }
   ],
   "source": [
    "# Dependencies and Setup\n",
    "import pandas as pd\n",
    "\n",
    "# File to Load (Remember to Change These)\n",
    "file = \"Resources/purchase_data.csv\"\n",
    "\n",
    "# Read Purchasing File and store into Pandas data frame\n",
    "\n",
    "main_df = pd.read_csv(file, skipinitialspace=True)\n",
    "column_names = list(main_df.columns)\n",
    "#print(column_names)\n",
    "# column 0 = purchase ID, 1 = SN(in game name), 2 = age, 3 = gender, 4 = item id, 5 = item name, 6 = price\n",
    "# may have to clean up header\n",
    "\n",
    "# you want to use the original dataframe and not the new one\n",
    "# this is looking at purchases not unique players so the filtered dataset would be incomplete\n",
    "# counting with gender will get the purchase count\n",
    "# Purchase Count\tAverage Purchase Price\tTotal Purchase Value\tAvg Total Purchase per Person\n",
    "# ex male_purchases = purchase_data.loc[purchase_data.Gender == 'Male', 'Gender'].count()\n",
    "\n",
    "# these are bins see link https://www.codespeedy.com/binning-or-bucketing-of-column-in-pandas-using-python/\n",
    "# these will be placed in their own dataframe \n",
    "# cut based on these ages: <10, 10-13,15-19,20-24,25-29,30-34,35-39,40+ \n",
    "# make percentages based on this (use total players again)\n",
    "original_bins = [9,13,19,24,29,34,39,150]\n",
    "#doing this for now to account for no know greater than or lesser than function atm, subject to change\n",
    "#bins = pd.IntervalIndex.from_arrays([0,9],[10,13],[15,19],[20,24],[25,29],[30,34],[35,39],[40,150])\n",
    "age_df = pd.cut(main_df['Age'],original_bins)\n",
    "age_df.head()"
   ]
  },
  {
   "cell_type": "markdown",
   "metadata": {},
   "source": [
    "## Player Count"
   ]
  },
  {
   "cell_type": "markdown",
   "metadata": {},
   "source": [
    "* Display the total number of players\n"
   ]
  },
  {
   "cell_type": "code",
   "execution_count": 9,
   "metadata": {},
   "outputs": [
    {
     "name": "stdout",
     "output_type": "stream",
     "text": [
      "576\n"
     ]
    }
   ],
   "source": [
    "# to get total players, you need to see all unique player igns(column 3)\n",
    "# it is case sensitive and len can be used to get the numerical value from unique()\n",
    "# given the formatting, it may be necessary to assign this to a data frame later \n",
    "total_players = len(main_df['SN'].unique())\n",
    "print(total_players)"
   ]
  },
  {
   "cell_type": "markdown",
   "metadata": {},
   "source": [
    "## Purchasing Analysis (Total)"
   ]
  },
  {
   "cell_type": "markdown",
   "metadata": {},
   "source": [
    "* Run basic calculations to obtain number of unique items, average price, etc.\n",
    "\n",
    "\n",
    "* Create a summary data frame to hold the results\n",
    "\n",
    "\n",
    "* Optional: give the displayed data cleaner formatting\n",
    "\n",
    "\n",
    "* Display the summary data frame\n"
   ]
  },
  {
   "cell_type": "code",
   "execution_count": null,
   "metadata": {
    "scrolled": true
   },
   "outputs": [],
   "source": [
    "unique_items = len(main_df[\"Item ID\"].unique())\n",
    "print(unique_items)\n",
    "\n",
    "#round to second decimal point here\n",
    "average_revenue = round(main_df['Price'].mean(),2)\n",
    "print(average_revenue)\n",
    "\n",
    "num_of_purchases = len(main_df[\"Item ID\"])\n",
    "print(num_of_purchases)\n",
    "\n",
    "# no need to round as prices only have 2 decimal places when added\n",
    "total_revenue = main_df['Price'].sum()\n",
    "print(total_revenue)"
   ]
  },
  {
   "cell_type": "markdown",
   "metadata": {},
   "source": [
    "## Gender Demographics"
   ]
  },
  {
   "cell_type": "markdown",
   "metadata": {},
   "source": [
    "* Percentage and Count of Male Players\n",
    "\n",
    "\n",
    "* Percentage and Count of Female Players\n",
    "\n",
    "\n",
    "* Percentage and Count of Other / Non-Disclosed\n",
    "\n",
    "\n"
   ]
  },
  {
   "cell_type": "code",
   "execution_count": 13,
   "metadata": {},
   "outputs": [],
   "source": [
    "gender_demo = main_df[['SN','Gender']]\n",
    "gender_checker = gender_demo.drop_duplicates()\n",
    "\n",
    "\n",
    "male_players = gender_checker.loc[gender_checker.Gender == 'Male', 'Gender'].count()\n",
    "female_players = gender_checker.loc[gender_checker.Gender == 'Female', 'Gender'].count()\n",
    "other_players = gender_checker.loc[gender_checker.Gender == 'Other / Non-Disclosed', 'Gender'].count()\n",
    "\n",
    "percent_of_m = \"{:.2%}\".format(male_players / total_players)\n",
    "percent_of_f = \"{:.2%}\".format(female_players / total_players)\n",
    "percent_of_o = \"{:.2%}\".format(other_players / total_players)\n",
    "\n",
    "# may be able to use this dataframe to analyze the next one by adding in price\n",
    "# but that might not be possible with this code due to drop duplicates\n",
    "# however if I were to not do that and simply use groupby, sum on price as I did earlier with male_df prototyping \n",
    "# then it is likely possible I could make the dataframe displayed with the following categories: \n",
    "# Gender->Purchase Count\tAverage Purchase Price\tTotal Purchase Value\tAvg Total Purchase per Person"
   ]
  },
  {
   "cell_type": "markdown",
   "metadata": {},
   "source": [
    "\n",
    "## Purchasing Analysis (Gender)"
   ]
  },
  {
   "cell_type": "markdown",
   "metadata": {},
   "source": [
    "* Run basic calculations to obtain purchase count, avg. purchase price, avg. purchase total per person etc. by gender\n",
    "\n",
    "\n",
    "\n",
    "\n",
    "* Create a summary data frame to hold the results\n",
    "\n",
    "\n",
    "* Optional: give the displayed data cleaner formatting\n",
    "\n",
    "\n",
    "* Display the summary data frame"
   ]
  },
  {
   "cell_type": "code",
   "execution_count": null,
   "metadata": {},
   "outputs": [],
   "source": [
    "# you want to use the original dataframe and not the new one\n",
    "# this is looking at purchases not unique players so the filtered dataset would be incomplete\n",
    "# counting with gender will get the purchase count\n",
    "# ex male_purchases = purchase_data.loc[purchase_data.Gender == 'Male', 'Gender'].count()\n",
    "# will also want to put these rows into their own data sets to analylze average price, total purchase value and average total purchase per person\n",
    "\n",
    "#testing with the males first\n",
    "#average total purchase per person\n",
    "male_df = main_df[main_df.iloc[:,3]=='Male']\n",
    "#male_df.reset_index()\n",
    "#print(male_df)\n",
    "m_count = male_df['Purchase ID'].count()\n",
    "m_avg = round(male_df['Price'].mean(),2)\n",
    "m_sum = male_df['Price'].sum()\n",
    "print(m_count)\n",
    "print(m_avg)\n",
    "print(m_sum)\n",
    "# examples\n",
    "#df.groupby(['Fruit','Name'])['Number'].sum().reset_index()\n",
    "#df.groupby(['Fruit','Name'])['Number'].sum()\n",
    "\n",
    "# male average purchase has 4.47 listed as its expected outcome\n",
    "# 484 is the total male population and the cost should add up to 1967.64\n",
    "m_avg_purchase_df = male_df.groupby(male_df['SN'])['Price'].sum().reset_index()\n",
    "m_avg_purchase_df.dropna(how = 'any')\n",
    "print(m_avg_purchase_df)\n",
    "m_sum = m_avg_purchase = round(m_avg_purchase_df['Price'].sum(),2)\n",
    "print(m_sum)\n",
    "m_avg_purchase = round(m_avg_purchase_df['Price'].mean(),2)\n",
    "print(m_avg_purchase)\n",
    "#m_avg_purchase_df = male_df.groupby([\"SN\"])\n",
    "\n",
    "o_df = main_df[main_df.iloc[:,3]=='Other / Non-Disclosed']\n",
    "#male_df.reset_index()\n",
    "#print(male_df)\n",
    "o_count = o_df['Purchase ID'].count()\n",
    "o_avg = round(o_df['Price'].mean(),2)\n",
    "o_sum = o_df['Price'].sum()\n",
    "print(o_count)\n",
    "print(o_avg)\n",
    "print(o_sum)\n",
    "# examples\n",
    "#df.groupby(['Fruit','Name'])['Number'].sum().reset_index()\n",
    "#df.groupby(['Fruit','Name'])['Number'].sum()\n",
    "\n",
    "# male average purchase has 4.47 listed as its expected outcome\n",
    "# 484 is the total male population and the cost should add up to 1967.64\n",
    "\n",
    "# other is 15, 3.35, 50.19, 4.56\n",
    "o_avg_purchase_df = o_df.groupby(o_df['SN'])['Price'].sum().reset_index()\n",
    "o_avg_purchase_df.dropna(how = 'any')\n",
    "print(o_avg_purchase_df)\n",
    "o_sum = o_avg_purchase = round(o_avg_purchase_df['Price'].sum(),2)\n",
    "print(o_sum)\n",
    "o_avg_purchase = round(o_avg_purchase_df['Price'].mean(),2)\n",
    "print(o_avg_purchase)\n"
   ]
  },
  {
   "cell_type": "markdown",
   "metadata": {},
   "source": [
    "## Age Demographics"
   ]
  },
  {
   "cell_type": "markdown",
   "metadata": {},
   "source": [
    "* Establish bins for ages\n",
    "\n",
    "\n",
    "* Categorize the existing players using the age bins. Hint: use pd.cut()\n",
    "\n",
    "\n",
    "* Calculate the numbers and percentages by age group\n",
    "\n",
    "\n",
    "* Create a summary data frame to hold the results\n",
    "\n",
    "\n",
    "* Optional: round the percentage column to two decimal points\n",
    "\n",
    "\n",
    "* Display Age Demographics Table\n"
   ]
  },
  {
   "cell_type": "code",
   "execution_count": null,
   "metadata": {},
   "outputs": [],
   "source": [
    "# these are bins see link https://www.codespeedy.com/binning-or-bucketing-of-column-in-pandas-using-python/\n",
    "# these will be placed in their own dataframe \n",
    "# cut based on these ages: <10, 10-13,15-19,20-24,25-29,30-34,35-39,40+ \n",
    "# make percentages based on this (use total players again)\n"
   ]
  },
  {
   "cell_type": "markdown",
   "metadata": {},
   "source": [
    "## Purchasing Analysis (Age)"
   ]
  },
  {
   "cell_type": "markdown",
   "metadata": {},
   "source": [
    "* Bin the purchase_data data frame by age\n",
    "\n",
    "\n",
    "* Run basic calculations to obtain purchase count, avg. purchase price, avg. purchase total per person etc. in the table below\n",
    "\n",
    "\n",
    "* Create a summary data frame to hold the results\n",
    "\n",
    "\n",
    "* Optional: give the displayed data cleaner formatting\n",
    "\n",
    "\n",
    "* Display the summary data frame"
   ]
  },
  {
   "cell_type": "code",
   "execution_count": null,
   "metadata": {},
   "outputs": [],
   "source": [
    "# just like gender, use sthe original data frame \n",
    "# bin it by age to move the rows around into a new data frame \n",
    "# calculate accordingly "
   ]
  },
  {
   "cell_type": "markdown",
   "metadata": {},
   "source": [
    "## Top Spenders"
   ]
  },
  {
   "cell_type": "markdown",
   "metadata": {},
   "source": [
    "* Run basic calculations to obtain the results in the table below\n",
    "\n",
    "\n",
    "* Create a summary data frame to hold the results\n",
    "\n",
    "\n",
    "* Sort the total purchase value column in descending order\n",
    "\n",
    "\n",
    "* Optional: give the displayed data cleaner formatting\n",
    "\n",
    "\n",
    "* Display a preview of the summary data frame\n",
    "\n"
   ]
  },
  {
   "cell_type": "code",
   "execution_count": null,
   "metadata": {},
   "outputs": [],
   "source": [
    "# count how many times a repeating sn reappears\n",
    "# place those names into a list \n",
    "# start a new dataframe with those list and the necessary columns\n",
    "# make a column holding these value for purchase count \n",
    "# average and total those rows values \n",
    "# place those values into the new data frame\n"
   ]
  },
  {
   "cell_type": "markdown",
   "metadata": {},
   "source": [
    "## Most Popular Items"
   ]
  },
  {
   "cell_type": "markdown",
   "metadata": {},
   "source": [
    "* Retrieve the Item ID, Item Name, and Item Price columns\n",
    "\n",
    "\n",
    "* Group by Item ID and Item Name. Perform calculations to obtain purchase count, average item price, and total purchase value\n",
    "\n",
    "\n",
    "* Create a summary data frame to hold the results\n",
    "\n",
    "\n",
    "* Sort the purchase count column in descending order\n",
    "\n",
    "\n",
    "* Optional: give the displayed data cleaner formatting\n",
    "\n",
    "\n",
    "* Display a preview of the summary data frame\n",
    "\n"
   ]
  },
  {
   "cell_type": "code",
   "execution_count": null,
   "metadata": {},
   "outputs": [],
   "source": [
    "# intended output is top 5 that want to be taken from the main data set\n",
    "# same with player names, take the item names, count them and place the new values in a new dataframe"
   ]
  },
  {
   "cell_type": "markdown",
   "metadata": {},
   "source": [
    "## Most Profitable Items"
   ]
  },
  {
   "cell_type": "markdown",
   "metadata": {},
   "source": [
    "* Sort the above table by total purchase value in descending order\n",
    "\n",
    "\n",
    "* Optional: give the displayed data cleaner formatting\n",
    "\n",
    "\n",
    "* Display a preview of the data frame\n",
    "\n"
   ]
  },
  {
   "cell_type": "code",
   "execution_count": null,
   "metadata": {
    "scrolled": true
   },
   "outputs": [],
   "source": [
    "# sort the new dataframe by total purchase value \n",
    "# display the new data frame"
   ]
  }
 ],
 "metadata": {
  "anaconda-cloud": {},
  "kernel_info": {
   "name": "python3"
  },
  "kernelspec": {
   "display_name": "Python 3",
   "language": "python",
   "name": "python3"
  },
  "language_info": {
   "codemirror_mode": {
    "name": "ipython",
    "version": 3
   },
   "file_extension": ".py",
   "mimetype": "text/x-python",
   "name": "python",
   "nbconvert_exporter": "python",
   "pygments_lexer": "ipython3",
   "version": "3.7.6"
  },
  "latex_envs": {
   "LaTeX_envs_menu_present": true,
   "autoclose": false,
   "autocomplete": true,
   "bibliofile": "biblio.bib",
   "cite_by": "apalike",
   "current_citInitial": 1,
   "eqLabelWithNumbers": true,
   "eqNumInitial": 1,
   "hotkeys": {
    "equation": "Ctrl-E",
    "itemize": "Ctrl-I"
   },
   "labels_anchors": false,
   "latex_user_defs": false,
   "report_style_numbering": false,
   "user_envs_cfg": false
  },
  "nteract": {
   "version": "0.2.0"
  }
 },
 "nbformat": 4,
 "nbformat_minor": 2
}
