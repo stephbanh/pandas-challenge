{
 "cells": [
  {
   "cell_type": "code",
   "execution_count": null,
   "metadata": {},
   "outputs": [],
   "source": [
    "# this is the formatting for the homework!!\n",
    "summary_df = pd.DataFrame({\"Best Bitcoin Open\": [bitcoin_open],\n",
    "                           \"Best Bitcoin Close\": [bitcoin_close],\n",
    "                           \"Total Bitcoin Volume\": str(bitcoin_volume)+\" million\",\n",
    "                           \"Best Dash Open\": [dash_open],\n",
    "                           \"Best Dash Close\": [dash_close],\n",
    "                           \"Total Dash Volume\": str(dash_volume)+\" million\"})\n",
    "\n",
    "summary_df\n",
    "\n",
    "# use + to combine stuff \n",
    "# ex: combined_wrestlers_df[\"2013\"]+combined_wrestlers_df[\"2014\"]"
   ]
  }
 ],
 "metadata": {
  "kernelspec": {
   "display_name": "Python 3",
   "language": "python",
   "name": "python3"
  },
  "language_info": {
   "codemirror_mode": {
    "name": "ipython",
    "version": 3
   },
   "file_extension": ".py",
   "mimetype": "text/x-python",
   "name": "python",
   "nbconvert_exporter": "python",
   "pygments_lexer": "ipython3",
   "version": "3.7.6"
  }
 },
 "nbformat": 4,
 "nbformat_minor": 4
}
