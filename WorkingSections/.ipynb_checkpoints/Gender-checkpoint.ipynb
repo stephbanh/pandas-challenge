{
 "cells": [
  {
   "cell_type": "markdown",
   "metadata": {},
   "source": [
    "### Note\n",
    "* Instructions have been included for each segment. You do not have to follow them exactly, but they are included to help you think through the steps."
   ]
  },
  {
   "cell_type": "code",
   "execution_count": 2,
   "metadata": {},
   "outputs": [],
   "source": [
    "# Dependencies and Setup\n",
    "import pandas as pd\n",
    "\n",
    "# File to Load (Remember to Change These)\n",
    "file = \"Resources/purchase_data.csv\"\n",
    "\n",
    "# Read Purchasing File and store into Pandas data frame\n",
    "\n",
    "main_df = pd.read_csv(file, skipinitialspace=True)\n",
    "column_names = list(main_df.columns)\n",
    "#print(column_names)\n",
    "# column 0 = purchase ID, 1 = SN(in game name), 2 = age, 3 = gender, 4 = item id, 5 = item name, 6 = price\n",
    "# may have to clean up header\n",
    "\n",
    "# you want to use the original dataframe and not the new one\n",
    "# this is looking at purchases not unique players so the filtered dataset would be incomplete\n",
    "# counting with gender will get the purchase count\n",
    "# Purchase Count\tAverage Purchase Price\tTotal Purchase Value\tAvg Total Purchase per Person\n",
    "# ex male_purchases = purchase_data.loc[purchase_data.Gender == 'Male', 'Gender'].count()\n",
    "\n",
    "#testing with the males first\n",
    "#average total purchase per person\n",
    "\n",
    "#m_avg_purchase_df = male_df.groupby([\"SN\"])\n",
    "\n",
    "# examples\n",
    "\n",
    "\n",
    "# these are bins see link https://www.codespeedy.com/binning-or-bucketing-of-column-in-pandas-using-python/\n",
    "# these will be placed in their own dataframe \n",
    "# cut based on these ages: <10, 10-13,15-19,20-24,25-29,30-34,35-39,40+ \n",
    "# make percentages based on this (use total players again)\n",
    "#original_bins = [9,13,19,24,29,34,39,150]\n",
    "#doing this for now to account for no know greater than or lesser than function atm, subject to change\n",
    "#bins = pd.IntervalIndex.from_arrays([0,9],[10,13],[15,19],[20,24],[25,29],[30,34],[35,39],[40,150])\n",
    "#age_df = pd.cut(main_df['Age'],original_bins)\n",
    "#age_df.head()"
   ]
  },
  {
   "cell_type": "markdown",
   "metadata": {},
   "source": [
    "## Player Count"
   ]
  },
  {
   "cell_type": "markdown",
   "metadata": {},
   "source": [
    "* Display the total number of players\n"
   ]
  },
  {
   "cell_type": "code",
   "execution_count": 5,
   "metadata": {},
   "outputs": [
    {
     "data": {
      "text/html": [
       "<div>\n",
       "<style scoped>\n",
       "    .dataframe tbody tr th:only-of-type {\n",
       "        vertical-align: middle;\n",
       "    }\n",
       "\n",
       "    .dataframe tbody tr th {\n",
       "        vertical-align: top;\n",
       "    }\n",
       "\n",
       "    .dataframe thead th {\n",
       "        text-align: right;\n",
       "    }\n",
       "</style>\n",
       "<table border=\"1\" class=\"dataframe\">\n",
       "  <thead>\n",
       "    <tr style=\"text-align: right;\">\n",
       "      <th></th>\n",
       "      <th>Total Players</th>\n",
       "    </tr>\n",
       "  </thead>\n",
       "  <tbody>\n",
       "    <tr>\n",
       "      <th>0</th>\n",
       "      <td>576</td>\n",
       "    </tr>\n",
       "  </tbody>\n",
       "</table>\n",
       "</div>"
      ],
      "text/plain": [
       "   Total Players\n",
       "0            576"
      ]
     },
     "execution_count": 5,
     "metadata": {},
     "output_type": "execute_result"
    }
   ],
   "source": [
    "# to get total players, you need to see all unique player igns(column 3)\n",
    "# it is case sensitive and len can be used to get the numerical value from unique()\n",
    "# given the formatting, it may be necessary to assign this to a data frame later \n",
    "total_players = len(main_df['SN'].unique())\n",
    "player_count_dict = {\"Total Players\": total_players}\n",
    "player_count_df = pd.DataFrame(player_count_dict, index = [0])\n",
    "player_count_df"
   ]
  },
  {
   "cell_type": "markdown",
   "metadata": {},
   "source": [
    "## Purchasing Analysis (Total)"
   ]
  },
  {
   "cell_type": "markdown",
   "metadata": {},
   "source": [
    "* Run basic calculations to obtain number of unique items, average price, etc.\n",
    "\n",
    "\n",
    "* Create a summary data frame to hold the results\n",
    "\n",
    "\n",
    "* Optional: give the displayed data cleaner formatting\n",
    "\n",
    "\n",
    "* Display the summary data frame\n"
   ]
  },
  {
   "cell_type": "code",
   "execution_count": 6,
   "metadata": {
    "scrolled": true
   },
   "outputs": [
    {
     "data": {
      "text/html": [
       "<div>\n",
       "<style scoped>\n",
       "    .dataframe tbody tr th:only-of-type {\n",
       "        vertical-align: middle;\n",
       "    }\n",
       "\n",
       "    .dataframe tbody tr th {\n",
       "        vertical-align: top;\n",
       "    }\n",
       "\n",
       "    .dataframe thead th {\n",
       "        text-align: right;\n",
       "    }\n",
       "</style>\n",
       "<table border=\"1\" class=\"dataframe\">\n",
       "  <thead>\n",
       "    <tr style=\"text-align: right;\">\n",
       "      <th></th>\n",
       "      <th>Number of Unique Items</th>\n",
       "      <th>Average Price</th>\n",
       "      <th>Number of Purchases</th>\n",
       "      <th>Total Revenue</th>\n",
       "    </tr>\n",
       "  </thead>\n",
       "  <tbody>\n",
       "    <tr>\n",
       "      <th>0</th>\n",
       "      <td>179</td>\n",
       "      <td>3.05</td>\n",
       "      <td>780</td>\n",
       "      <td>2379.77</td>\n",
       "    </tr>\n",
       "  </tbody>\n",
       "</table>\n",
       "</div>"
      ],
      "text/plain": [
       "   Number of Unique Items  Average Price  Number of Purchases  Total Revenue\n",
       "0                     179           3.05                  780        2379.77"
      ]
     },
     "execution_count": 6,
     "metadata": {},
     "output_type": "execute_result"
    }
   ],
   "source": [
    "unique_items = len(main_df[\"Item ID\"].unique())\n",
    "\n",
    "#round to second decimal point here\n",
    "average_revenue = round(main_df['Price'].mean(),2)\n",
    "\n",
    "num_of_purchases = len(main_df[\"Item ID\"])\n",
    "\n",
    "# no need to round as prices only have 2 decimal places when added\n",
    "total_revenue = main_df['Price'].sum()\n",
    "\n",
    "purchasing_analysis_dict = {\"Number of Unique Items\": unique_items,\n",
    "                           \"Average Price\": average_revenue,\n",
    "                           \"Number of Purchases\": num_of_purchases,\n",
    "                           \"Total Revenue\": total_revenue}\n",
    "\n",
    "purchasing_analysis_df = pd.DataFrame(purchasing_analysis_dict, index = [0])\n",
    "purchasing_analysis_df"
   ]
  },
  {
   "cell_type": "markdown",
   "metadata": {},
   "source": [
    "## Gender Demographics"
   ]
  },
  {
   "cell_type": "markdown",
   "metadata": {},
   "source": [
    "* Percentage and Count of Male Players\n",
    "\n",
    "\n",
    "* Percentage and Count of Female Players\n",
    "\n",
    "\n",
    "* Percentage and Count of Other / Non-Disclosed\n",
    "\n",
    "\n"
   ]
  },
  {
   "cell_type": "code",
   "execution_count": 8,
   "metadata": {},
   "outputs": [
    {
     "data": {
      "text/html": [
       "<div>\n",
       "<style scoped>\n",
       "    .dataframe tbody tr th:only-of-type {\n",
       "        vertical-align: middle;\n",
       "    }\n",
       "\n",
       "    .dataframe tbody tr th {\n",
       "        vertical-align: top;\n",
       "    }\n",
       "\n",
       "    .dataframe thead th {\n",
       "        text-align: right;\n",
       "    }\n",
       "</style>\n",
       "<table border=\"1\" class=\"dataframe\">\n",
       "  <thead>\n",
       "    <tr style=\"text-align: right;\">\n",
       "      <th></th>\n",
       "      <th>Total Count</th>\n",
       "      <th>Percentage of Players</th>\n",
       "    </tr>\n",
       "  </thead>\n",
       "  <tbody>\n",
       "    <tr>\n",
       "      <th>Male</th>\n",
       "      <td>484</td>\n",
       "      <td>84.03%</td>\n",
       "    </tr>\n",
       "    <tr>\n",
       "      <th>Female</th>\n",
       "      <td>81</td>\n",
       "      <td>14.06%</td>\n",
       "    </tr>\n",
       "    <tr>\n",
       "      <th>Other/Non-Disclosed</th>\n",
       "      <td>11</td>\n",
       "      <td>1.91%</td>\n",
       "    </tr>\n",
       "  </tbody>\n",
       "</table>\n",
       "</div>"
      ],
      "text/plain": [
       "                     Total Count Percentage of Players\n",
       "Male                         484                84.03%\n",
       "Female                        81                14.06%\n",
       "Other/Non-Disclosed           11                 1.91%"
      ]
     },
     "execution_count": 8,
     "metadata": {},
     "output_type": "execute_result"
    }
   ],
   "source": [
    "gender_demo = main_df[['SN','Gender']]\n",
    "gender_checker = gender_demo.drop_duplicates()\n",
    "\n",
    "\n",
    "male_players = gender_checker.loc[gender_checker.Gender == 'Male', 'Gender'].count()\n",
    "female_players = gender_checker.loc[gender_checker.Gender == 'Female', 'Gender'].count()\n",
    "other_players = gender_checker.loc[gender_checker.Gender == 'Other / Non-Disclosed', 'Gender'].count()\n",
    "\n",
    "percent_of_m = \"{:.2%}\".format(male_players / total_players)\n",
    "percent_of_f = \"{:.2%}\".format(female_players / total_players)\n",
    "percent_of_o = \"{:.2%}\".format(other_players / total_players)\n",
    "\n",
    "gender_index = [\"Male\",\"Female\",\"Other/Non-Disclosed\"]\n",
    "total_counts_list = [male_players,female_players,other_players]\n",
    "percent_list = [percent_of_m,percent_of_f,percent_of_o]\n",
    "\n",
    "gender_dict = {\"Total Count\": total_counts_list,\n",
    "              \"Percentage of Players\": percent_list}\n",
    "\n",
    "summary_gender_df = pd.DataFrame(gender_dict, index = gender_index)\n",
    "summary_gender_df\n"
   ]
  },
  {
   "cell_type": "markdown",
   "metadata": {},
   "source": [
    "\n",
    "## Purchasing Analysis (Gender)"
   ]
  },
  {
   "cell_type": "markdown",
   "metadata": {},
   "source": [
    "* Run basic calculations to obtain purchase count, avg. purchase price, avg. purchase total per person etc. by gender\n",
    "\n",
    "\n",
    "\n",
    "\n",
    "* Create a summary data frame to hold the results\n",
    "\n",
    "\n",
    "* Optional: give the displayed data cleaner formatting\n",
    "\n",
    "\n",
    "* Display the summary data frame"
   ]
  },
  {
   "cell_type": "code",
   "execution_count": 14,
   "metadata": {},
   "outputs": [
    {
     "name": "stdout",
     "output_type": "stream",
     "text": [
      "4.47\n"
     ]
    },
    {
     "data": {
      "text/html": [
       "<div>\n",
       "<style scoped>\n",
       "    .dataframe tbody tr th:only-of-type {\n",
       "        vertical-align: middle;\n",
       "    }\n",
       "\n",
       "    .dataframe tbody tr th {\n",
       "        vertical-align: top;\n",
       "    }\n",
       "\n",
       "    .dataframe thead th {\n",
       "        text-align: right;\n",
       "    }\n",
       "</style>\n",
       "<table border=\"1\" class=\"dataframe\">\n",
       "  <thead>\n",
       "    <tr style=\"text-align: right;\">\n",
       "      <th></th>\n",
       "      <th>Purchase Count</th>\n",
       "      <th>Average Purchase Price</th>\n",
       "      <th>Total Purchase Value</th>\n",
       "      <th>Avg Total Purchase per Person</th>\n",
       "    </tr>\n",
       "  </thead>\n",
       "  <tbody>\n",
       "    <tr>\n",
       "      <th>Female</th>\n",
       "      <td>113</td>\n",
       "      <td>3.20</td>\n",
       "      <td>361.94</td>\n",
       "      <td>4.47</td>\n",
       "    </tr>\n",
       "    <tr>\n",
       "      <th>Male</th>\n",
       "      <td>652</td>\n",
       "      <td>3.02</td>\n",
       "      <td>1967.64</td>\n",
       "      <td>4.07</td>\n",
       "    </tr>\n",
       "    <tr>\n",
       "      <th>Other/Non-Disclosed</th>\n",
       "      <td>15</td>\n",
       "      <td>3.35</td>\n",
       "      <td>50.19</td>\n",
       "      <td>4.56</td>\n",
       "    </tr>\n",
       "  </tbody>\n",
       "</table>\n",
       "</div>"
      ],
      "text/plain": [
       "                     Purchase Count  Average Purchase Price  \\\n",
       "Female                          113                    3.20   \n",
       "Male                            652                    3.02   \n",
       "Other/Non-Disclosed              15                    3.35   \n",
       "\n",
       "                     Total Purchase Value  Avg Total Purchase per Person  \n",
       "Female                             361.94                           4.47  \n",
       "Male                              1967.64                           4.07  \n",
       "Other/Non-Disclosed                 50.19                           4.56  "
      ]
     },
     "execution_count": 14,
     "metadata": {},
     "output_type": "execute_result"
    }
   ],
   "source": [
    "# you want to use the original dataframe and not the new one\n",
    "# this is looking at purchases not unique players so the filtered dataset would be incomplete\n",
    "# counting with gender will get the purchase count\n",
    "# ex male_purchases = purchase_data.loc[purchase_data.Gender == 'Male', 'Gender'].count()\n",
    "# will also want to put these rows into their own data sets to analylze average price, total purchase value and average total purchase per person\n",
    "\n",
    "#use iloc to get all rows with males in it\n",
    "m_df = main_df[main_df.iloc[:,3]=='Male']\n",
    "\n",
    "# calculate the summary data\n",
    "m_count = m_df['Purchase ID'].count()\n",
    "m_avg = round(male_df['Price'].mean(),2)\n",
    "m_sum = male_df['Price'].sum()\n",
    "\n",
    "# 484 is the total male population, average is 3.02 and the cost should add up to 1967.64\n",
    "# male average purchase has 4.07 listed as it's expected outcome\n",
    "\n",
    "\n",
    "# for average purchase for males we need to do a groupby and add up their prices\n",
    "# we also need to reset index to prevent garbled data\n",
    "m_avg_purchase_df = male_df.groupby(male_df['SN'])['Price'].sum().reset_index()\n",
    "m_avg_purchase = round(m_avg_purchase_df['Price'].mean(),2)\n",
    "\n",
    "#-----------\n",
    "# female\n",
    "# expected values are 113, 3.20, 361.94, 4.47\n",
    "f_df = main_df[main_df.iloc[:,3]=='Female']\n",
    "\n",
    "f_count = f_df['Purchase ID'].count()\n",
    "f_avg = round(f_df['Price'].mean(),2)\n",
    "f_sum = f_df['Price'].sum()\n",
    "\n",
    "#\n",
    "f_avg_purchase_df = f_df.groupby(f_df['SN'])['Price'].sum().reset_index()\n",
    "f_avg_purchase = round(f_avg_purchase_df['Price'].mean(),2)\n",
    "print(f_avg_purchase)\n",
    "#-------------\n",
    "# other/nondisclosed\n",
    "o_df = main_df[main_df.iloc[:,3]=='Other / Non-Disclosed']\n",
    "\n",
    "o_count = o_df['Purchase ID'].count()\n",
    "o_avg = round(o_df['Price'].mean(),2)\n",
    "o_sum = o_df['Price'].sum()\n",
    "\n",
    "# other expected values are 15, 3.35, 50.19, 4.56\n",
    "o_avg_purchase_df = o_df.groupby(o_df['SN'])['Price'].sum().reset_index()\n",
    "o_avg_purchase = round(o_avg_purchase_df['Price'].mean(),2)\n",
    "\n",
    "\n",
    "# expected outcome has the order- female,male,other so a new index is needed\n",
    "gender_index2 = [\"Female\",\"Male\",\"Other/Non-Disclosed\"]\n",
    "gender_analysis_dict = {\"Purchase Count\": [f_count,m_count,o_count],\n",
    "                        \"Average Purchase Price\": [f_avg,m_avg,o_avg],\n",
    "                        \"Total Purchase Value\": [f_sum,m_sum,o_sum],\n",
    "                        \"Avg Total Purchase per Person\":[f_avg_purchase,m_avg_purchase,o_avg_purchase]}\n",
    "gender_analysis_df = pd.DataFrame(gender_analysis_dict, index = gender_index2)\n",
    "gender_analysis_df"
   ]
  },
  {
   "cell_type": "markdown",
   "metadata": {},
   "source": [
    "## Age Demographics"
   ]
  },
  {
   "cell_type": "markdown",
   "metadata": {},
   "source": [
    "* Establish bins for ages\n",
    "\n",
    "\n",
    "* Categorize the existing players using the age bins. Hint: use pd.cut()\n",
    "\n",
    "\n",
    "* Calculate the numbers and percentages by age group\n",
    "\n",
    "\n",
    "* Create a summary data frame to hold the results\n",
    "\n",
    "\n",
    "* Optional: round the percentage column to two decimal points\n",
    "\n",
    "\n",
    "* Display Age Demographics Table\n"
   ]
  },
  {
   "cell_type": "code",
   "execution_count": null,
   "metadata": {},
   "outputs": [],
   "source": [
    "# these are bins see link https://www.codespeedy.com/binning-or-bucketing-of-column-in-pandas-using-python/\n",
    "# these will be placed in their own dataframe \n",
    "# cut based on these ages: <10, 10-13,15-19,20-24,25-29,30-34,35-39,40+ \n",
    "# make percentages based on this (use total players again)\n"
   ]
  },
  {
   "cell_type": "markdown",
   "metadata": {},
   "source": [
    "## Purchasing Analysis (Age)"
   ]
  },
  {
   "cell_type": "markdown",
   "metadata": {},
   "source": [
    "* Bin the purchase_data data frame by age\n",
    "\n",
    "\n",
    "* Run basic calculations to obtain purchase count, avg. purchase price, avg. purchase total per person etc. in the table below\n",
    "\n",
    "\n",
    "* Create a summary data frame to hold the results\n",
    "\n",
    "\n",
    "* Optional: give the displayed data cleaner formatting\n",
    "\n",
    "\n",
    "* Display the summary data frame"
   ]
  },
  {
   "cell_type": "code",
   "execution_count": null,
   "metadata": {},
   "outputs": [],
   "source": [
    "# just like gender, use sthe original data frame \n",
    "# bin it by age to move the rows around into a new data frame \n",
    "# calculate accordingly "
   ]
  },
  {
   "cell_type": "markdown",
   "metadata": {},
   "source": [
    "## Top Spenders"
   ]
  },
  {
   "cell_type": "markdown",
   "metadata": {},
   "source": [
    "* Run basic calculations to obtain the results in the table below\n",
    "\n",
    "\n",
    "* Create a summary data frame to hold the results\n",
    "\n",
    "\n",
    "* Sort the total purchase value column in descending order\n",
    "\n",
    "\n",
    "* Optional: give the displayed data cleaner formatting\n",
    "\n",
    "\n",
    "* Display a preview of the summary data frame\n",
    "\n"
   ]
  },
  {
   "cell_type": "code",
   "execution_count": null,
   "metadata": {},
   "outputs": [],
   "source": [
    "# count how many times a repeating sn reappears\n",
    "# place those names into a list \n",
    "# start a new dataframe with those list and the necessary columns\n",
    "# make a column holding these value for purchase count \n",
    "# average and total those rows values \n",
    "# place those values into the new data frame\n"
   ]
  },
  {
   "cell_type": "markdown",
   "metadata": {},
   "source": [
    "## Most Popular Items"
   ]
  },
  {
   "cell_type": "markdown",
   "metadata": {},
   "source": [
    "* Retrieve the Item ID, Item Name, and Item Price columns\n",
    "\n",
    "\n",
    "* Group by Item ID and Item Name. Perform calculations to obtain purchase count, average item price, and total purchase value\n",
    "\n",
    "\n",
    "* Create a summary data frame to hold the results\n",
    "\n",
    "\n",
    "* Sort the purchase count column in descending order\n",
    "\n",
    "\n",
    "* Optional: give the displayed data cleaner formatting\n",
    "\n",
    "\n",
    "* Display a preview of the summary data frame\n",
    "\n"
   ]
  },
  {
   "cell_type": "code",
   "execution_count": null,
   "metadata": {},
   "outputs": [],
   "source": [
    "# intended output is top 5 that want to be taken from the main data set\n",
    "# same with player names, take the item names, count them and place the new values in a new dataframe"
   ]
  },
  {
   "cell_type": "markdown",
   "metadata": {},
   "source": [
    "## Most Profitable Items"
   ]
  },
  {
   "cell_type": "markdown",
   "metadata": {},
   "source": [
    "* Sort the above table by total purchase value in descending order\n",
    "\n",
    "\n",
    "* Optional: give the displayed data cleaner formatting\n",
    "\n",
    "\n",
    "* Display a preview of the data frame\n",
    "\n"
   ]
  },
  {
   "cell_type": "code",
   "execution_count": null,
   "metadata": {
    "scrolled": true
   },
   "outputs": [],
   "source": [
    "# sort the new dataframe by total purchase value \n",
    "# display the new data frame"
   ]
  }
 ],
 "metadata": {
  "anaconda-cloud": {},
  "kernel_info": {
   "name": "python3"
  },
  "kernelspec": {
   "display_name": "Python 3",
   "language": "python",
   "name": "python3"
  },
  "language_info": {
   "codemirror_mode": {
    "name": "ipython",
    "version": 3
   },
   "file_extension": ".py",
   "mimetype": "text/x-python",
   "name": "python",
   "nbconvert_exporter": "python",
   "pygments_lexer": "ipython3",
   "version": "3.7.6"
  },
  "latex_envs": {
   "LaTeX_envs_menu_present": true,
   "autoclose": false,
   "autocomplete": true,
   "bibliofile": "biblio.bib",
   "cite_by": "apalike",
   "current_citInitial": 1,
   "eqLabelWithNumbers": true,
   "eqNumInitial": 1,
   "hotkeys": {
    "equation": "Ctrl-E",
    "itemize": "Ctrl-I"
   },
   "labels_anchors": false,
   "latex_user_defs": false,
   "report_style_numbering": false,
   "user_envs_cfg": false
  },
  "nteract": {
   "version": "0.2.0"
  }
 },
 "nbformat": 4,
 "nbformat_minor": 2
}
